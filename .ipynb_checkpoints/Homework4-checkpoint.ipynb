{
 "cells": [
  {
   "cell_type": "markdown",
   "metadata": {},
   "source": [
    "Independent Variables: pclass, sex, age, sibsp | Dependent Variables: Survived\n",
    "Dependent Variable: Survived"
   ]
  },
  {
   "cell_type": "code",
   "execution_count": 7,
   "metadata": {},
   "outputs": [
    {
     "data": {
      "text/html": [
       "<div>\n",
       "<style scoped>\n",
       "    .dataframe tbody tr th:only-of-type {\n",
       "        vertical-align: middle;\n",
       "    }\n",
       "\n",
       "    .dataframe tbody tr th {\n",
       "        vertical-align: top;\n",
       "    }\n",
       "\n",
       "    .dataframe thead th {\n",
       "        text-align: right;\n",
       "    }\n",
       "</style>\n",
       "<table border=\"1\" class=\"dataframe\">\n",
       "  <thead>\n",
       "    <tr style=\"text-align: right;\">\n",
       "      <th></th>\n",
       "      <th>Unnamed: 0</th>\n",
       "      <th>pclass</th>\n",
       "      <th>survived</th>\n",
       "      <th>sex</th>\n",
       "      <th>sibsp</th>\n",
       "    </tr>\n",
       "  </thead>\n",
       "  <tbody>\n",
       "    <tr>\n",
       "      <th>0</th>\n",
       "      <td>1</td>\n",
       "      <td>1st</td>\n",
       "      <td>1</td>\n",
       "      <td>female</td>\n",
       "      <td>0</td>\n",
       "    </tr>\n",
       "    <tr>\n",
       "      <th>1</th>\n",
       "      <td>2</td>\n",
       "      <td>1st</td>\n",
       "      <td>1</td>\n",
       "      <td>male</td>\n",
       "      <td>1</td>\n",
       "    </tr>\n",
       "    <tr>\n",
       "      <th>2</th>\n",
       "      <td>3</td>\n",
       "      <td>1st</td>\n",
       "      <td>0</td>\n",
       "      <td>female</td>\n",
       "      <td>1</td>\n",
       "    </tr>\n",
       "    <tr>\n",
       "      <th>3</th>\n",
       "      <td>4</td>\n",
       "      <td>1st</td>\n",
       "      <td>0</td>\n",
       "      <td>male</td>\n",
       "      <td>1</td>\n",
       "    </tr>\n",
       "    <tr>\n",
       "      <th>4</th>\n",
       "      <td>5</td>\n",
       "      <td>1st</td>\n",
       "      <td>0</td>\n",
       "      <td>female</td>\n",
       "      <td>1</td>\n",
       "    </tr>\n",
       "  </tbody>\n",
       "</table>\n",
       "</div>"
      ],
      "text/plain": [
       "   Unnamed: 0 pclass  survived     sex  sibsp\n",
       "0           1    1st         1  female      0\n",
       "1           2    1st         1    male      1\n",
       "2           3    1st         0  female      1\n",
       "3           4    1st         0    male      1\n",
       "4           5    1st         0  female      1"
      ]
     },
     "execution_count": 7,
     "metadata": {},
     "output_type": "execute_result"
    }
   ],
   "source": [
    "import pandas as pd\n",
    "\n",
    "data_file_name = './Titanic.csv'\n",
    "\n",
    "data = pd.read_csv (data_file_name)\n",
    "\n",
    "y = data.survived\n",
    "\n",
    "data = data.drop('name', axis=1)\n",
    "data = data.drop('parch', axis=1)\n",
    "data = data.drop('ticket', axis=1)\n",
    "data = data.drop('fare', axis=1)\n",
    "data = data.drop('cabin', axis=1)\n",
    "data = data.drop('embarked', axis=1)\n",
    "data = data.drop('boat', axis=1)\n",
    "data = data.drop('body', axis=1)\n",
    "data = data.drop('home.dest', axis=1)\n",
    "\n",
    "data = data.dropna(axis=1)\n",
    "\n",
    "data.head()"
   ]
  },
  {
   "cell_type": "code",
   "execution_count": 8,
   "metadata": {},
   "outputs": [],
   "source": [
    "from sklearn.preprocessing import LabelEncoder\n",
    "\n",
    "le = LabelEncoder()\n",
    "\n",
    "data['pclass'] = le.fit_transform(data['pclass'])\n",
    "\n",
    "data['sex'] = le.fit_transform(data['sex'])"
   ]
  },
  {
   "cell_type": "code",
   "execution_count": 9,
   "metadata": {},
   "outputs": [],
   "source": [
    "from sklearn.model_selection import train_test_split\n",
    "\n",
    "data_x = data\n",
    "data_x = data_x.drop('survived', axis=1)\n",
    "\n",
    "X_train, X_test, y_train, y_test = train_test_split(data_x, y, test_size=0.3)"
   ]
  },
  {
   "cell_type": "markdown",
   "metadata": {},
   "source": [
    "Two hidden layers, with activation to be sigmoid function.\n",
    "\n",
    "activation='logistic'    ---> the logistic sigmoid function, returns f(x) = 1 / (1 + exp(-x))"
   ]
  },
  {
   "cell_type": "markdown",
   "metadata": {},
   "source": [
    "**Trial 1:**"
   ]
  },
  {
   "cell_type": "code",
   "execution_count": 10,
   "metadata": {
    "scrolled": true
   },
   "outputs": [
    {
     "name": "stdout",
     "output_type": "stream",
     "text": [
      "Number of Layers:  3 ... there are 2 hidden layers and 1 output layer\n"
     ]
    }
   ],
   "source": [
    "from sklearn.neural_network import MLPClassifier\n",
    "\n",
    "mlp = MLPClassifier(solver='sgd', hidden_layer_sizes=(100), activation='logistic', alpha=1e-5, learning_rate='constant', momentum=0.9)\n",
    "\n",
    "mlp.fit(X_train, y_train)\n",
    "\n",
    "print('Number of Layers: ', mlp.n_layers_, '... there are 2 hidden layers and 1 output layer')"
   ]
  },
  {
   "cell_type": "markdown",
   "metadata": {},
   "source": [
    "in-sample percent survivors and fatalities correctly predicted (on training set)"
   ]
  },
  {
   "cell_type": "code",
   "execution_count": 13,
   "metadata": {},
   "outputs": [
    {
     "name": "stdout",
     "output_type": "stream",
     "text": [
      "66.70305676855895 %\n"
     ]
    }
   ],
   "source": [
    "in_sample = mlp.score(X_train, y_train)\n",
    "\n",
    "print(in_sample*100, '%')"
   ]
  },
  {
   "cell_type": "markdown",
   "metadata": {},
   "source": [
    "out-of-sample percent survivors and fatalities correctly predicted (on test set)"
   ]
  },
  {
   "cell_type": "code",
   "execution_count": 14,
   "metadata": {},
   "outputs": [
    {
     "name": "stdout",
     "output_type": "stream",
     "text": [
      "65.39440203562341 %\n"
     ]
    }
   ],
   "source": [
    "out_sample = mlp.score(X_test, y_test)\n",
    "\n",
    "print(out_sample*100, '%')"
   ]
  },
  {
   "cell_type": "markdown",
   "metadata": {},
   "source": [
    "**Trial 2:**"
   ]
  },
  {
   "cell_type": "code",
   "execution_count": 15,
   "metadata": {},
   "outputs": [
    {
     "name": "stdout",
     "output_type": "stream",
     "text": [
      "Number of Layers:  3 ... there are 2 hidden layers and 1 output layer\n"
     ]
    }
   ],
   "source": [
    "mlp = MLPClassifier(solver='sgd', hidden_layer_sizes=(50), activation='logistic', alpha=1e-5, learning_rate='constant', momentum=0.9)\n",
    "\n",
    "mlp.fit(X_train, y_train)\n",
    "\n",
    "print('Number of Layers: ', mlp.n_layers_, '... there are 2 hidden layers and 1 output layer')"
   ]
  },
  {
   "cell_type": "markdown",
   "metadata": {},
   "source": [
    "in-sample percent survivors and fatalities correctly predicted (on training set)"
   ]
  },
  {
   "cell_type": "code",
   "execution_count": 16,
   "metadata": {},
   "outputs": [
    {
     "name": "stdout",
     "output_type": "stream",
     "text": [
      "61.135371179039296 %\n"
     ]
    }
   ],
   "source": [
    "in_sample2 = mlp.score(X_train, y_train)\n",
    "\n",
    "print(in_sample2*100, '%')"
   ]
  },
  {
   "cell_type": "markdown",
   "metadata": {},
   "source": [
    "out-of-sample percent survivors and fatalities correctly predicted (on test set)"
   ]
  },
  {
   "cell_type": "code",
   "execution_count": 17,
   "metadata": {},
   "outputs": [
    {
     "name": "stdout",
     "output_type": "stream",
     "text": [
      "63.358778625954194 %\n"
     ]
    }
   ],
   "source": [
    "out_sample2 = mlp.score(X_test, y_test)\n",
    "\n",
    "print(out_sample2*100, '%')"
   ]
  },
  {
   "cell_type": "markdown",
   "metadata": {},
   "source": [
    "pruned tree from hw 3: in-sample percent survivors and fatalities correctly predicted (on training set)"
   ]
  },
  {
   "cell_type": "code",
   "execution_count": 18,
   "metadata": {},
   "outputs": [
    {
     "name": "stdout",
     "output_type": "stream",
     "text": [
      "79.47598253275109 %\n"
     ]
    }
   ],
   "source": [
    "hw3_in_sample = 0.7947598253275109\n",
    "\n",
    "print(hw3_in_sample*100, '%')"
   ]
  },
  {
   "cell_type": "markdown",
   "metadata": {},
   "source": [
    "pruned tree from hw3: out-sample percent survivors and fatalities corrected predicted (on test set)"
   ]
  },
  {
   "cell_type": "code",
   "execution_count": 19,
   "metadata": {},
   "outputs": [
    {
     "name": "stdout",
     "output_type": "stream",
     "text": [
      "79.13486005089058 %\n"
     ]
    }
   ],
   "source": [
    "hw3_out_sample = 0.7913486005089059\n",
    "\n",
    "print(hw3_out_sample*100, '%')"
   ]
  },
  {
   "cell_type": "code",
   "execution_count": 24,
   "metadata": {},
   "outputs": [
    {
     "data": {
      "text/plain": [
       "Text(0.5, 0, 'Accuracy')"
      ]
     },
     "execution_count": 24,
     "metadata": {},
     "output_type": "execute_result"
    },
    {
     "data": {
      "image/png": "[encoded data removed]",
      "text/plain": [
       "<Figure size 432x288 with 1 Axes>"
      ]
     },
     "metadata": {
      "needs_background": "light"
     },
     "output_type": "display_data"
    }
   ],
   "source": [
    "import matplotlib.pyplot as plt\n",
    "import numpy as np\n",
    "\n",
    "objects = ('In 1', 'Out 1', 'In 2', 'Out 2', 'Hw3 In', 'Hw3 Out')\n",
    "accuracy = [in_sample, out_sample, in_sample2, out_sample2, hw3_in_sample, hw3_out_sample]\n",
    "\n",
    "y_pos = np.arange(len(objects))\n",
    "\n",
    "plt.bar(y_pos, accuracy, align='center', alpha=0.5)\n",
    "plt.xticks(y_pos, objects)\n",
    "\n",
    "plt.xlabel('Accuracy')"
   ]
  },
  {
   "cell_type": "markdown",
   "metadata": {},
   "source": [
    "As shown in the figure above, the pruned tree from hw3 obtained a higher accuracy. "
   ]
  },
  {
   "cell_type": "code",
   "execution_count": null,
   "metadata": {},
   "outputs": [],
   "source": []
  }
 ],
 "metadata": {
  "kernelspec": {
   "display_name": "Python 3",
   "language": "python",
   "name": "python3"
  },
  "language_info": {
   "codemirror_mode": {
    "name": "ipython",
    "version": 3
   },
   "file_extension": ".py",
   "mimetype": "text/x-python",
   "name": "python",
   "nbconvert_exporter": "python",
   "pygments_lexer": "ipython3",
   "version": "3.8.3"
  }
 },
 "nbformat": 4,
 "nbformat_minor": 4
}
