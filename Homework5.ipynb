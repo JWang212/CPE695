{
 "cells": [
  {
   "cell_type": "code",
   "execution_count": 1,
   "metadata": {},
   "outputs": [],
   "source": [
    "import matplotlib.pyplot as plt\n",
    "import numpy as np\n",
    "import random\n",
    "import copy"
   ]
  },
  {
   "cell_type": "code",
   "execution_count": 2,
   "metadata": {},
   "outputs": [
    {
     "data": {
      "text/plain": [
       "[<matplotlib.lines.Line2D at 0x11aae1eb8>]"
      ]
     },
     "execution_count": 2,
     "metadata": {},
     "output_type": "execute_result"
    },
    {
     "data": {
      "image/png": "[encoded data removed]",
      "text/plain": [
       "<Figure size 432x288 with 1 Axes>"
      ]
     },
     "metadata": {},
     "output_type": "display_data"
    }
   ],
   "source": [
    "noise_scale = 100\n",
    "number_of_samples = 50\n",
    "\n",
    "x = 25*(np.random.rand(number_of_samples, 1) - 0.8)\n",
    "\n",
    "y = 1 * x**3 + 20 * x**2 + 5 * x + noise_scale*np.random.randn(number_of_samples, 1)\n",
    "\n",
    "plt.style.use('seaborn-whitegrid')\n",
    "plt.plot(x,y,'ro')"
   ]
  },
  {
   "cell_type": "code",
   "execution_count": 3,
   "metadata": {},
   "outputs": [],
   "source": [
    "num_of_genes = 4\n",
    "\n",
    "sol_per_pop = 100"
   ]
  },
  {
   "cell_type": "code",
   "execution_count": 4,
   "metadata": {},
   "outputs": [],
   "source": [
    "def calculate_badness_scores(population):\n",
    "    badness_scores = []\n",
    "\n",
    "    for i in range(len(population)):\n",
    "        genes = population[i]\n",
    "    \n",
    "        badness = 0\n",
    "    \n",
    "        for j in range(len(x)):\n",
    "        \n",
    "            y_value = genes[0] * x[j]**3 + genes[1] * x[j]**2 + genes[2] * x[j] + genes[3]\n",
    "        \n",
    "            badness += (y_value - y[j])**2\n",
    "        \n",
    "        badness_scores = badness_scores + [badness]\n",
    "        \n",
    "    return badness_scores"
   ]
  },
  {
   "cell_type": "code",
   "execution_count": 5,
   "metadata": {},
   "outputs": [],
   "source": [
    "def find_best_position(x, badness_scores):\n",
    "    best_chromosomes_position = []\n",
    "\n",
    "    for i in range(x):\n",
    "        minpos = badness_scores.index(min(badness_scores))\n",
    "        best_chromosomes_position += [minpos]\n",
    "        del badness_scores[minpos]\n",
    "        \n",
    "    return best_chromosomes_position"
   ]
  },
  {
   "cell_type": "code",
   "execution_count": 6,
   "metadata": {},
   "outputs": [],
   "source": [
    "def mutation(best_chromosomes):\n",
    "    \n",
    "    chromosomes_after_mutations = []\n",
    "    \n",
    "    for i in range(len(best_chromosomes)):\n",
    "        chromosomes_after_mutations += [best_chromosomes[i]]\n",
    "\n",
    "        for j in range(len(best_chromosomes)-1):\n",
    "            best_chromosomes_copied = copy.deepcopy(best_chromosomes)\n",
    "            \n",
    "            chromosome_to_mutate = best_chromosomes_copied[i]\n",
    "            \n",
    "            gene_to_mutate = np.random.randint(low = 0, high= 4)\n",
    "                        \n",
    "            mutated_gene = chromosome_to_mutate[gene_to_mutate] * random.uniform(0.0, 2.0)\n",
    "                        \n",
    "            chromosome_to_mutate[gene_to_mutate] = mutated_gene\n",
    "            chromosomes_after_mutations += [chromosome_to_mutate]\n",
    "            \n",
    "    return chromosomes_after_mutations"
   ]
  },
  {
   "cell_type": "code",
   "execution_count": 7,
   "metadata": {},
   "outputs": [],
   "source": [
    "def generation(num_of_genes, sol_per_pop, population):\n",
    "        \n",
    "    #Calculate the badness score of each chromosome in the population\n",
    "\n",
    "    badness_scores = calculate_badness_scores(population)\n",
    "        \n",
    "    #Find the positions of the x=10 best chromosomes in the population\n",
    "    \n",
    "    best_chromosomes_position = find_best_position(10, badness_scores)\n",
    "        \n",
    "    #Add the best chromosomes to separate array\n",
    "    best_chromosomes = []\n",
    "\n",
    "    for i in range(len(best_chromosomes_position)):\n",
    "        best_chromosomes += [population[best_chromosomes_position[i]]]\n",
    "        \n",
    "    #Mutate a random gene in each of the 10 best chromosomes of the population\n",
    "    #Do this nine times for each chromosome and keep the original chromosome \n",
    "    chromosomes_after_mutations = mutation(best_chromosomes)\n",
    "        \n",
    "    return chromosomes_after_mutations"
   ]
  },
  {
   "cell_type": "code",
   "execution_count": 8,
   "metadata": {},
   "outputs": [],
   "source": [
    "# Calculate an initial population\n",
    "initial_population = np.random.uniform(low = -5.0, high = 30.0, size=(sol_per_pop, num_of_genes))"
   ]
  },
  {
   "cell_type": "code",
   "execution_count": 9,
   "metadata": {},
   "outputs": [
    {
     "name": "stdout",
     "output_type": "stream",
     "text": [
      "[array([ 1.26719269, 20.95387852, 25.2957916 , 27.95685843]), array([ 1.26719269, 20.95387852, 25.2957916 , 34.20281542]), array([ 1.26719269, 20.95387852, 25.2957916 , 30.83157413]), array([ 1.26719269, 20.95387852, 34.2609031 , 27.95685843]), array([ 0.15746529, 20.95387852, 25.2957916 , 27.95685843]), array([ 0.60388735, 20.95387852, 25.2957916 , 27.95685843]), array([ 1.26719269,  7.71996517, 25.2957916 , 27.95685843]), array([ 1.26719269, 20.95387852, 25.2957916 , 14.90908905]), array([ 1.26719269, 20.95387852, 25.2957916 , 34.37242909]), array([ 1.26719269, 20.95387852, 14.40406282, 27.95685843]), array([23.63464495, -3.04404292, 27.79626269, -4.12433229]), array([12.02692846, -3.04404292, 27.79626269, -4.12433229]), array([36.66303478, -3.04404292, 27.79626269, -4.12433229]), array([23.63464495, -3.04404292, 27.79626269, -5.41812457]), array([23.63464495, -3.04404292, 27.79626269, -2.12393887]), array([23.63464495, -4.52878426, 27.79626269, -4.12433229]), array([ 0.984382  , -3.04404292, 27.79626269, -4.12433229]), array([ 5.93900359, -3.04404292, 27.79626269, -4.12433229]), array([23.63464495, -3.04404292, 27.79626269, -1.2070681 ]), array([23.63464495, -3.25264587, 27.79626269, -4.12433229]), array([22.86251643,  6.88072101,  9.92333422, 16.57721987]), array([22.86251643,  6.88072101,  9.92333422, 17.15802874]), array([17.01426795,  6.88072101,  9.92333422, 16.57721987]), array([22.86251643, 12.84094197,  9.92333422, 16.57721987]), array([22.86251643,  4.73989989,  9.92333422, 16.57721987]), array([22.86251643,  6.88072101,  0.81980422, 16.57721987]), array([22.86251643,  9.25608148,  9.92333422, 16.57721987]), array([22.86251643,  2.12528308,  9.92333422, 16.57721987]), array([22.86251643, 11.2639522 ,  9.92333422, 16.57721987]), array([22.86251643,  6.88072101,  7.70670047, 16.57721987]), array([10.67776624, 15.40364316, -4.30412682,  5.31574218]), array([10.67776624, 15.40364316, -1.26796477,  5.31574218]), array([10.67776624, 15.40364316, -6.36031375,  5.31574218]), array([19.29221032, 15.40364316, -4.30412682,  5.31574218]), array([10.67776624, 28.75473694, -4.30412682,  5.31574218]), array([10.67776624, 15.40364316, -5.55546093,  5.31574218]), array([10.67776624, 12.7518997 , -4.30412682,  5.31574218]), array([10.67776624, 15.40364316, -4.30412682,  7.06147329]), array([10.67776624, 15.40364316, -7.72507834,  5.31574218]), array([10.67776624, 29.1645467 , -4.30412682,  5.31574218]), array([-0.62355303,  5.9326617 , 15.32236653, 19.88190759]), array([-0.16399232,  5.9326617 , 15.32236653, 19.88190759]), array([-1.00832366,  5.9326617 , 15.32236653, 19.88190759]), array([-0.62355303,  5.9326617 , 15.32236653, 28.35392464]), array([-0.62355303,  5.9326617 , 24.51256385, 19.88190759]), array([-0.62355303,  5.9326617 , 15.32236653,  8.74463712]), array([-0.62355303,  3.92785191, 15.32236653, 19.88190759]), array([-0.16261224,  5.9326617 , 15.32236653, 19.88190759]), array([-0.62355303,  5.9326617 , 15.32236653, 24.99399729]), array([-0.4418162 ,  5.9326617 , 15.32236653, 19.88190759]), array([ 4.56540957e+00, -3.40653477e+00,  1.60379268e+01,  1.18712820e-02]), array([ 4.56540957e+00, -2.59726299e+00,  1.60379268e+01,  1.18712820e-02]), array([ 4.56540957, -3.40653477,  4.80215904,  0.01187128]), array([ 4.56540957e+00, -3.10196613e+00,  1.60379268e+01,  1.18712820e-02]), array([ 3.49461145e+00, -3.40653477e+00,  1.60379268e+01,  1.18712820e-02]), array([ 4.56540957, -3.40653477,  9.45354932,  0.01187128]), array([ 4.56540957e+00, -3.40653477e+00,  1.60379268e+01,  1.15501698e-02]), array([ 1.51337385e+00, -3.40653477e+00,  1.60379268e+01,  1.18712820e-02]), array([ 4.56540957, -3.40653477,  4.89140055,  0.01187128]), array([ 4.56540957e+00, -3.77573758e+00,  1.60379268e+01,  1.18712820e-02]), array([-0.33030794, 16.80585938,  8.88627368, 20.19080625]), array([-0.33030794, 16.80585938,  8.88627368, 32.74760754]), array([-0.33030794, 16.80585938, 11.08182682, 20.19080625]), array([-0.33030794, 21.76431644,  8.88627368, 20.19080625]), array([-0.20751512, 16.80585938,  8.88627368, 20.19080625]), array([-0.33030794, 16.80585938,  9.93697598, 20.19080625]), array([-0.33030794, 16.80585938, 13.73251877, 20.19080625]), array([-0.33030794, 16.80585938,  7.84624728, 20.19080625]), array([-0.33030794,  6.5622048 ,  8.88627368, 20.19080625]), array([-0.33030794, 12.94068905,  8.88627368, 20.19080625]), array([-0.62355303,  5.9326617 , 15.32236653, 19.88190759]), array([-0.89699077,  5.9326617 , 15.32236653, 19.88190759]), array([-0.62355303,  5.9326617 , 15.32236653,  7.67327693]), array([-0.62355303,  5.9326617 , 22.318887  , 19.88190759]), array([-0.62355303,  2.54243818, 15.32236653, 19.88190759]), array([-0.93525096,  5.9326617 , 15.32236653, 19.88190759]), array([-0.62355303,  5.9326617 , 15.32236653,  8.39492402]), array([-0.62355303,  5.9326617 , 26.22650901, 19.88190759]), array([-0.74960397,  5.9326617 , 15.32236653, 19.88190759]), array([-0.62355303,  5.9326617 , 15.32236653, 32.45400549]), array([ 0.93063179,  9.05283138,  6.88117016, 23.81468934]), array([ 0.93063179, 14.92589708,  6.88117016, 23.81468934]), array([ 0.93063179,  9.05283138,  8.54583493, 23.81468934]), array([ 0.93063179,  6.18008707,  6.88117016, 23.81468934]), array([ 0.93063179,  9.05283138,  2.61097708, 23.81468934]), array([ 0.93063179,  9.05283138,  4.2188035 , 23.81468934]), array([ 0.93063179,  9.05283138,  6.88117016, 23.9790301 ]), array([ 0.93063179,  9.05283138,  3.83483108, 23.81468934]), array([ 0.93063179,  9.05283138, 13.42924356, 23.81468934]), array([ 0.93063179,  9.05283138,  6.88117016, 35.9305468 ]), array([-3.17899234,  6.69648031, -2.76814063, 16.20218341]), array([-3.17899234,  6.69648031, -2.76814063, 18.06763704]), array([-3.17899234,  6.69648031, -2.76814063, 14.89156876]), array([-6.08075716,  6.69648031, -2.76814063, 16.20218341]), array([-3.17899234,  6.69648031, -2.76814063, 18.53475349]), array([-1.97416986,  6.69648031, -2.76814063, 16.20218341]), array([-3.17899234,  4.62976201, -2.76814063, 16.20218341]), array([-2.67703846,  6.69648031, -2.76814063, 16.20218341]), array([-3.17899234,  4.26445744, -2.76814063, 16.20218341]), array([-3.17899234,  0.08471409, -2.76814063, 16.20218341])]\n"
     ]
    }
   ],
   "source": [
    "# Find the first generation\n",
    "\n",
    "first_generation = generation(num_of_genes, sol_per_pop, initial_population)\n",
    "\n",
    "print(first_generation)"
   ]
  },
  {
   "cell_type": "code",
   "execution_count": 10,
   "metadata": {},
   "outputs": [],
   "source": [
    "# Repeat 499 more times to find the final generation to have 500 trials\n",
    "\n",
    "final_generation = first_generation\n",
    "\n",
    "for i in range(500):\n",
    "    final_generation = generation(num_of_genes, sol_per_pop, final_generation)"
   ]
  },
  {
   "cell_type": "code",
   "execution_count": 11,
   "metadata": {},
   "outputs": [],
   "source": [
    "#Find the best array after the 500 trials\n",
    "\n",
    "badness_scores = calculate_badness_scores(final_generation)\n",
    "best_position = find_best_position(1, badness_scores)\n",
    "\n",
    "best_chromosome = final_generation[best_position[0]]"
   ]
  },
  {
   "cell_type": "code",
   "execution_count": 12,
   "metadata": {},
   "outputs": [
    {
     "name": "stdout",
     "output_type": "stream",
     "text": [
      "        3         2\n",
      "0.9655 x + 18.99 x + 7.922e-16 x + 16.43\n"
     ]
    }
   ],
   "source": [
    "pred_poly = np.poly1d(np.array(best_chromosome))\n",
    "print(pred_poly)"
   ]
  },
  {
   "cell_type": "code",
   "execution_count": 13,
   "metadata": {},
   "outputs": [
    {
     "data": {
      "image/png": "[encoded data removed]",
      "text/plain": [
       "<Figure size 432x288 with 1 Axes>"
      ]
     },
     "metadata": {},
     "output_type": "display_data"
    }
   ],
   "source": [
    "x_pred = np.arange(min(x), max(x))\n",
    "y_pred = pred_poly(x_pred)\n",
    "plt.plot(x_pred, y_pred, 'b')\n",
    "plt.plot(x,y,'ro')\n",
    "plt.show()"
   ]
  }
 ],
 "metadata": {
  "kernelspec": {
   "display_name": "Python 3",
   "language": "python",
   "name": "python3"
  },
  "language_info": {
   "codemirror_mode": {
    "name": "ipython",
    "version": 3
   },
   "file_extension": ".py",
   "mimetype": "text/x-python",
   "name": "python",
   "nbconvert_exporter": "python",
   "pygments_lexer": "ipython3",
   "version": "3.8.3"
  }
 },
 "nbformat": 4,
 "nbformat_minor": 4
}
