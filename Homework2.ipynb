{
 "cells": [
  {
   "cell_type": "code",
   "execution_count": 64,
   "metadata": {},
   "outputs": [],
   "source": [
    "import matplotlib.pyplot as plt\n",
    "import numpy as np\n",
    "from sklearn.metrics import mean_squared_error"
   ]
  },
  {
   "cell_type": "code",
   "execution_count": 65,
   "metadata": {},
   "outputs": [],
   "source": [
    "data_file_name = './data2.txt'\n",
    "data = np.loadtxt(data_file_name, delimiter = ',')\n",
    "data = np.array(data)"
   ]
  },
  {
   "cell_type": "code",
   "execution_count": 66,
   "metadata": {},
   "outputs": [],
   "source": [
    "length_of_data = len(data)\n",
    "\n",
    "def createNumpyArray(variable, length, location_of_data):\n",
    "    for i in range (0, length):\n",
    "        variable.append([data[i][location_of_data]])\n",
    "    variable = np.array(variable)\n",
    "    return variable\n",
    "\n",
    "x = []\n",
    "x = createNumpyArray(x, length_of_data, 0)\n",
    "\n",
    "y = []\n",
    "y = createNumpyArray(y, length_of_data, 1)"
   ]
  },
  {
   "cell_type": "markdown",
   "metadata": {},
   "source": [
    "Part 1: Plot the data"
   ]
  },
  {
   "cell_type": "code",
   "execution_count": 67,
   "metadata": {},
   "outputs": [
    {
     "data": {
      "image/png": "[encoded data removed]",
      "text/plain": [
       "<Figure size 432x288 with 1 Axes>"
      ]
     },
     "metadata": {
      "needs_background": "light"
     },
     "output_type": "display_data"
    }
   ],
   "source": [
    "plt.plot(x,y, 'ro')\n",
    "plt.show()"
   ]
  },
  {
   "cell_type": "markdown",
   "metadata": {},
   "source": [
    "Part 2: Normal Equation"
   ]
  },
  {
   "cell_type": "code",
   "execution_count": 68,
   "metadata": {},
   "outputs": [
    {
     "name": "stdout",
     "output_type": "stream",
     "text": [
      " \n",
      "1.193 x - 3.896\n"
     ]
    }
   ],
   "source": [
    "X_b = np.c_[np.ones((length_of_data,1)), x] #add x0 = 1 to each instance\n",
    "theta_best = np.linalg.inv(X_b.T.dot(X_b)).dot(X_b.T).dot(y)\n",
    "theta_best = np.flip(theta_best)\n",
    "\n",
    "normal_equation = np.poly1d(theta_best.flatten())\n",
    "print(normal_equation)"
   ]
  },
  {
   "cell_type": "markdown",
   "metadata": {},
   "source": [
    "Part 3: Gradient Descent (batch mode), Part a"
   ]
  },
  {
   "cell_type": "code",
   "execution_count": 69,
   "metadata": {},
   "outputs": [],
   "source": [
    "def gradient_descent_batch(eta, n_iterations, m, theta):\n",
    "    for iteration in range(n_iterations):\n",
    "        gradients = 2/m * X_b.T.dot(X_b.dot(theta) - y)\n",
    "        theta = theta - eta * gradients\n",
    "    return theta\n",
    "\n",
    "def findYValues(x_values, polynomial):\n",
    "    return polynomial(x_values)\n",
    "\n",
    "def findMSE(y_true, y_predicted):\n",
    "    return np.square(np.subtract(y_true, y_predicted)).mean()\n",
    "\n",
    "m = length_of_data\n",
    "eta = 0.01 #learning rate"
   ]
  },
  {
   "cell_type": "code",
   "execution_count": 70,
   "metadata": {},
   "outputs": [
    {
     "name": "stdout",
     "output_type": "stream",
     "text": [
      " \n",
      "0.7131 x + 0.7982\n"
     ]
    }
   ],
   "source": [
    "# Trial 1\n",
    "\n",
    "n_iterations1 = 10\n",
    "\n",
    "theta = np.random.randn(2,1) #random initialization\n",
    "\n",
    "theta = np.flip(gradient_descent_batch(eta, n_iterations1, m, theta))\n",
    "\n",
    "gradient_descent_batch_equation = np.poly1d((theta).flatten())\n",
    "\n",
    "batch_MSE1 = findMSE(y, findYValues(x, gradient_descent_batch_equation))\n",
    "\n",
    "print(gradient_descent_batch_equation)"
   ]
  },
  {
   "cell_type": "code",
   "execution_count": 71,
   "metadata": {},
   "outputs": [
    {
     "name": "stdout",
     "output_type": "stream",
     "text": [
      " \n",
      "0.9814 x - 1.789\n"
     ]
    }
   ],
   "source": [
    "# Trial 2\n",
    "\n",
    "n_iterations2 = 100\n",
    "\n",
    "theta = np.random.randn(2,1) #random initialization\n",
    "\n",
    "theta = np.flip(gradient_descent_batch(eta, n_iterations2, m, theta))\n",
    "\n",
    "gradient_descent_batch_equation = np.poly1d((theta).flatten())\n",
    "\n",
    "batch_MSE2 = findMSE(y, findYValues(x, gradient_descent_batch_equation))\n",
    "\n",
    "print(gradient_descent_batch_equation)"
   ]
  },
  {
   "cell_type": "code",
   "execution_count": 72,
   "metadata": {},
   "outputs": [
    {
     "name": "stdout",
     "output_type": "stream",
     "text": [
      " \n",
      "1.186 x - 3.826\n"
     ]
    }
   ],
   "source": [
    "# Trial 3\n",
    "\n",
    "n_iterations3 = 1000\n",
    "\n",
    "theta = np.random.randn(2,1) #random initialization\n",
    "\n",
    "theta = np.flip(gradient_descent_batch(eta, n_iterations3, m, theta))\n",
    "\n",
    "gradient_descent_batch_equation = np.poly1d((theta).flatten())\n",
    "\n",
    "batch_MSE3 = findMSE(y, findYValues(x, gradient_descent_batch_equation))\n",
    "\n",
    "print(gradient_descent_batch_equation)"
   ]
  },
  {
   "cell_type": "code",
   "execution_count": 73,
   "metadata": {},
   "outputs": [
    {
     "name": "stdout",
     "output_type": "stream",
     "text": [
      " \n",
      "1.193 x - 3.896\n"
     ]
    }
   ],
   "source": [
    "# Trial 4\n",
    "\n",
    "n_iterations4 = 10000\n",
    "\n",
    "theta = np.random.randn(2,1) #random initialization\n",
    "\n",
    "theta = np.flip(gradient_descent_batch(eta, n_iterations4, m, theta))\n",
    "\n",
    "gradient_descent_batch_equation = np.poly1d((theta).flatten())\n",
    "\n",
    "batch_MSE4 = findMSE(y, findYValues(x, gradient_descent_batch_equation))\n",
    "\n",
    "print(gradient_descent_batch_equation)"
   ]
  },
  {
   "cell_type": "code",
   "execution_count": 74,
   "metadata": {},
   "outputs": [
    {
     "name": "stdout",
     "output_type": "stream",
     "text": [
      " \n",
      "1.193 x - 3.896\n"
     ]
    }
   ],
   "source": [
    "# Trial 5\n",
    "n_iterations5 = 100000\n",
    "\n",
    "theta = np.random.randn(2,1) #random initialization\n",
    "\n",
    "theta = np.flip(gradient_descent_batch(eta, n_iterations5, m, theta))\n",
    "\n",
    "gradient_descent_batch_equation = np.poly1d((theta).flatten())\n",
    "\n",
    "batch_MSE5 = findMSE(y, findYValues(x, gradient_descent_batch_equation))\n",
    "\n",
    "print(gradient_descent_batch_equation)"
   ]
  },
  {
   "cell_type": "markdown",
   "metadata": {},
   "source": [
    "A termination condition of 10000 iterations seems appropriate since the equation found is the same as the normal equation but is less than 100000 iterations, which also finds the same equation as the normal equation."
   ]
  },
  {
   "cell_type": "markdown",
   "metadata": {},
   "source": [
    "Part 3: Gradient Descent (batch mode), Part b"
   ]
  },
  {
   "cell_type": "code",
   "execution_count": 75,
   "metadata": {},
   "outputs": [
    {
     "name": "stdout",
     "output_type": "stream",
     "text": [
      "Iterations: \n",
      "[10, 100, 1000, 10000, 100000]\n",
      "MSE: \n",
      "[12.972875475187251, 9.761850124513185, 8.95483950963055, 8.953942751950358, 8.953942751950358]\n"
     ]
    }
   ],
   "source": [
    "batch_iterations = [n_iterations1, n_iterations2, n_iterations3, n_iterations4, n_iterations5]\n",
    "batch_MSE = [batch_MSE1, batch_MSE2, batch_MSE3, batch_MSE4, batch_MSE5]\n",
    "\n",
    "print(\"Iterations: \")\n",
    "print(batch_iterations)\n",
    "print(\"MSE: \")\n",
    "print(batch_MSE)"
   ]
  },
  {
   "cell_type": "markdown",
   "metadata": {},
   "source": [
    "As the iterations go up, the cost goes down. Therefore, the more iterations, the more accurate. However, there is a point at which you do not need to add more iterations, since the change in cost gets more minimal as the interations go up. The speed of convergence occurs quite slowly for large training sets for batch gradient descent since the whole batch of traning data is used at every step. "
   ]
  },
  {
   "cell_type": "markdown",
   "metadata": {},
   "source": [
    "Cost vs. Iterations"
   ]
  },
  {
   "cell_type": "code",
   "execution_count": 76,
   "metadata": {},
   "outputs": [
    {
     "data": {
      "image/png": "[encoded data removed]",
      "text/plain": [
       "<Figure size 432x288 with 1 Axes>"
      ]
     },
     "metadata": {
      "needs_background": "light"
     },
     "output_type": "display_data"
    }
   ],
   "source": [
    "plt.plot(batch_MSE, batch_iterations)\n",
    "plt.show()"
   ]
  },
  {
   "cell_type": "markdown",
   "metadata": {},
   "source": [
    "Part 3: Gradient Descent (batch mode), Part c"
   ]
  },
  {
   "cell_type": "code",
   "execution_count": 77,
   "metadata": {},
   "outputs": [],
   "source": [
    "n_iterations = 10000"
   ]
  },
  {
   "cell_type": "code",
   "execution_count": 78,
   "metadata": {},
   "outputs": [
    {
     "name": "stdout",
     "output_type": "stream",
     "text": [
      " \n",
      "0.4194 x + 1.546\n"
     ]
    }
   ],
   "source": [
    "#Trial 1\n",
    "\n",
    "eta1 = 0.000001 #learning rate\n",
    "\n",
    "theta = np.random.randn(2,1) #random initialization\n",
    "\n",
    "theta = np.flip(gradient_descent_batch(eta1, n_iterations, m, theta))\n",
    "\n",
    "gradient_descent_batch_equation = np.poly1d((theta).flatten())\n",
    "\n",
    "batch_MSE1 = findMSE(y, findYValues(x, gradient_descent_batch_equation))\n",
    "\n",
    "print(gradient_descent_batch_equation)"
   ]
  },
  {
   "cell_type": "code",
   "execution_count": 79,
   "metadata": {},
   "outputs": [
    {
     "name": "stdout",
     "output_type": "stream",
     "text": [
      " \n",
      "1.001 x - 1.981\n"
     ]
    }
   ],
   "source": [
    "#Trial 2\n",
    "\n",
    "eta2 = 0.00001 #learning rate\n",
    "\n",
    "theta = np.random.randn(2,1) #random initialization\n",
    "\n",
    "theta = np.flip(gradient_descent_batch(eta2, n_iterations, m, theta))\n",
    "\n",
    "gradient_descent_batch_equation = np.poly1d((theta).flatten())\n",
    "\n",
    "batch_MSE2 = findMSE(y, findYValues(x, gradient_descent_batch_equation))\n",
    "\n",
    "print(gradient_descent_batch_equation)"
   ]
  },
  {
   "cell_type": "code",
   "execution_count": 80,
   "metadata": {},
   "outputs": [
    {
     "name": "stdout",
     "output_type": "stream",
     "text": [
      " \n",
      "0.9893 x - 1.868\n"
     ]
    }
   ],
   "source": [
    "#Trial 3\n",
    "\n",
    "eta3 = 0.0001 #learning rate\n",
    "\n",
    "theta = np.random.randn(2,1) #random initialization\n",
    "\n",
    "theta = np.flip(gradient_descent_batch(eta3, n_iterations, m, theta))\n",
    "\n",
    "gradient_descent_batch_equation = np.poly1d((theta).flatten())\n",
    "\n",
    "batch_MSE3 = findMSE(y, findYValues(x, gradient_descent_batch_equation))\n",
    "\n",
    "print(gradient_descent_batch_equation)"
   ]
  },
  {
   "cell_type": "code",
   "execution_count": 81,
   "metadata": {},
   "outputs": [
    {
     "name": "stdout",
     "output_type": "stream",
     "text": [
      " \n",
      "1.186 x - 3.826\n"
     ]
    }
   ],
   "source": [
    "#Trial 4\n",
    "\n",
    "eta4 = 0.001 #learning rate\n",
    "\n",
    "theta = np.random.randn(2,1) #random initialization\n",
    "\n",
    "theta = np.flip(gradient_descent_batch(eta4, n_iterations, m, theta))\n",
    "\n",
    "gradient_descent_batch_equation = np.poly1d((theta).flatten())\n",
    "\n",
    "batch_MSE4 = findMSE(y, findYValues(x, gradient_descent_batch_equation))\n",
    "\n",
    "print(gradient_descent_batch_equation)"
   ]
  },
  {
   "cell_type": "code",
   "execution_count": 82,
   "metadata": {},
   "outputs": [
    {
     "name": "stdout",
     "output_type": "stream",
     "text": [
      " \n",
      "1.193 x - 3.896\n"
     ]
    }
   ],
   "source": [
    "#Trial 5\n",
    "\n",
    "eta5 = 0.01 #learning rate\n",
    "\n",
    "theta = np.random.randn(2,1) #random initialization\n",
    "\n",
    "theta = np.flip(gradient_descent_batch(eta5, n_iterations, m, theta))\n",
    "\n",
    "gradient_descent_batch_equation = np.poly1d((theta).flatten())\n",
    "\n",
    "batch_MSE5 = findMSE(y, findYValues(x, gradient_descent_batch_equation))\n",
    "\n",
    "print(gradient_descent_batch_equation)"
   ]
  },
  {
   "cell_type": "code",
   "execution_count": 83,
   "metadata": {},
   "outputs": [
    {
     "name": "stdout",
     "output_type": "stream",
     "text": [
      "Learning Rate: \n",
      "[1e-06, 1e-05, 0.0001, 0.001, 0.01]\n",
      "MSE: \n",
      "[18.582853827073784, 9.62152971756869, 9.702907586281341, 8.954838418151184, 8.953942751950358]\n"
     ]
    }
   ],
   "source": [
    "batch_learning_rate = [eta1, eta2, eta3, eta4, eta5]\n",
    "batch_MSE = [batch_MSE1, batch_MSE2, batch_MSE3, batch_MSE4, batch_MSE5]\n",
    "\n",
    "print(\"Learning Rate: \")\n",
    "print(batch_learning_rate)\n",
    "print(\"MSE: \")\n",
    "print(batch_MSE)"
   ]
  },
  {
   "cell_type": "markdown",
   "metadata": {},
   "source": [
    "The best learning rate seems to be 0.001, since it is one of the lowest  costs. 0.01 has a lower cost, however the change is minimal."
   ]
  },
  {
   "cell_type": "markdown",
   "metadata": {},
   "source": [
    "Cost vs. Learning Rate"
   ]
  },
  {
   "cell_type": "code",
   "execution_count": 84,
   "metadata": {},
   "outputs": [
    {
     "data": {
      "image/png": "[encoded data removed]",
      "text/plain": [
       "<Figure size 432x288 with 1 Axes>"
      ]
     },
     "metadata": {
      "needs_background": "light"
     },
     "output_type": "display_data"
    }
   ],
   "source": [
    "plt.plot(batch_MSE, batch_learning_rate)\n",
    "plt.show()"
   ]
  },
  {
   "cell_type": "markdown",
   "metadata": {},
   "source": [
    "Part 3: Gradient Descent (stochastic mode), Part a"
   ]
  },
  {
   "cell_type": "code",
   "execution_count": 85,
   "metadata": {},
   "outputs": [],
   "source": [
    "def gradient_descent_stochastic(n_epochs, eta, theta):\n",
    "    for epoch in range(n_epochs):\n",
    "        for i in range(m):\n",
    "            random_index = np.random.randint(m)\n",
    "            xi = X_b[random_index:random_index+1]\n",
    "            yi = y[random_index:random_index+1]\n",
    "            gradients = 2 * xi.T.dot(xi.dot(theta) - yi)\n",
    "            theta = theta - eta * gradients\n",
    "    return theta\n",
    "\n",
    "eta = 0.01 #learning rate"
   ]
  },
  {
   "cell_type": "code",
   "execution_count": 86,
   "metadata": {},
   "outputs": [
    {
     "name": "stdout",
     "output_type": "stream",
     "text": [
      " \n",
      "1.357 x - 2.707\n"
     ]
    }
   ],
   "source": [
    "# Trial 1\n",
    "\n",
    "n_epochs1 = 10\n",
    "theta = np.random.randn(2,1) # random initilization\n",
    "\n",
    "theta = np.flip(gradient_descent_stochastic(n_epochs1, eta, theta))\n",
    "\n",
    "gradient_descent_stochastic_equation = np.poly1d((theta).flatten())\n",
    "\n",
    "stochastic_MSE1 = findMSE(y, findYValues(x, gradient_descent_stochastic_equation))\n",
    "\n",
    "print(gradient_descent_stochastic_equation)"
   ]
  },
  {
   "cell_type": "code",
   "execution_count": 87,
   "metadata": {},
   "outputs": [
    {
     "name": "stdout",
     "output_type": "stream",
     "text": [
      " \n",
      "-0.6407 x + 6\n"
     ]
    }
   ],
   "source": [
    "# Trial 2\n",
    "\n",
    "n_epochs2 = 50\n",
    "theta = np.random.randn(2,1) # random initilization\n",
    "\n",
    "theta = np.flip(gradient_descent_stochastic(n_epochs2, eta, theta))\n",
    "\n",
    "gradient_descent_stochastic_equation = np.poly1d((theta).flatten())\n",
    "\n",
    "stochastic_MSE2 = findMSE(y, findYValues(x, gradient_descent_stochastic_equation))\n",
    "\n",
    "print(gradient_descent_stochastic_equation)"
   ]
  },
  {
   "cell_type": "code",
   "execution_count": 88,
   "metadata": {},
   "outputs": [
    {
     "name": "stdout",
     "output_type": "stream",
     "text": [
      " \n",
      "1.085 x - 3.881\n"
     ]
    }
   ],
   "source": [
    "#Trial 3\n",
    "\n",
    "n_epochs3 = 100\n",
    "theta = np.random.randn(2,1) # random initilization\n",
    "\n",
    "theta = np.flip(gradient_descent_stochastic(n_epochs3, eta, theta))\n",
    "\n",
    "gradient_descent_stochastic_equation = np.poly1d((theta).flatten())\n",
    "\n",
    "stochastic_MSE3 = findMSE(y, findYValues(x, gradient_descent_stochastic_equation))\n",
    "\n",
    "print(gradient_descent_stochastic_equation)"
   ]
  },
  {
   "cell_type": "code",
   "execution_count": 89,
   "metadata": {},
   "outputs": [
    {
     "name": "stdout",
     "output_type": "stream",
     "text": [
      " \n",
      "0.4994 x - 1.592\n"
     ]
    }
   ],
   "source": [
    "#Trial 4\n",
    "\n",
    "n_epochs4 = 150\n",
    "theta = np.random.randn(2,1) # random initilization\n",
    "\n",
    "theta = np.flip(gradient_descent_stochastic(n_epochs4, eta, theta))\n",
    "\n",
    "gradient_descent_stochastic_equation = np.poly1d((theta).flatten())\n",
    "\n",
    "stochastic_MSE4 = findMSE(y, findYValues(x, gradient_descent_stochastic_equation))\n",
    "\n",
    "print(gradient_descent_stochastic_equation)"
   ]
  },
  {
   "cell_type": "code",
   "execution_count": 90,
   "metadata": {},
   "outputs": [
    {
     "name": "stdout",
     "output_type": "stream",
     "text": [
      " \n",
      "1.078 x - 4.648\n"
     ]
    }
   ],
   "source": [
    "#Trial 5\n",
    "\n",
    "n_epochs5 = 200\n",
    "theta = np.random.randn(2,1) # random initilization\n",
    "\n",
    "theta = np.flip(gradient_descent_stochastic(n_epochs5, eta, theta))\n",
    "\n",
    "gradient_descent_stochastic_equation = np.poly1d((theta).flatten())\n",
    "\n",
    "stochastic_MSE5 = findMSE(y, findYValues(x, gradient_descent_stochastic_equation))\n",
    "\n",
    "print(gradient_descent_stochastic_equation)"
   ]
  },
  {
   "cell_type": "markdown",
   "metadata": {},
   "source": [
    "An appropriate termination condition seems to be epochs of 100 since it results in an equation that is closest to the normal equation."
   ]
  },
  {
   "cell_type": "markdown",
   "metadata": {},
   "source": [
    "Part 3: Gradient Descent (stochastic mode), Part b"
   ]
  },
  {
   "cell_type": "code",
   "execution_count": 94,
   "metadata": {},
   "outputs": [
    {
     "name": "stdout",
     "output_type": "stream",
     "text": [
      "Epochs: \n",
      "[10, 50, 100, 150, 200]\n",
      "MSE: \n",
      "[15.735522194398943, 84.46564564789286, 9.872977860711021, 27.3474291263488, 11.998628338381701]\n"
     ]
    }
   ],
   "source": [
    "stochastic_epochs = [n_epochs1, n_epochs2, n_epochs3, n_epochs4, n_epochs5]\n",
    "stochastic_MSE = [stochastic_MSE1, stochastic_MSE2, stochastic_MSE3, stochastic_MSE4, stochastic_MSE5]\n",
    "\n",
    "print(\"Epochs: \")\n",
    "print(stochastic_epochs)\n",
    "print(\"MSE: \")\n",
    "print(stochastic_MSE)"
   ]
  },
  {
   "cell_type": "markdown",
   "metadata": {},
   "source": [
    "Cost vs. Epochs. "
   ]
  },
  {
   "cell_type": "code",
   "execution_count": 95,
   "metadata": {},
   "outputs": [
    {
     "data": {
      "image/png": "[encoded data removed]",
      "text/plain": [
       "<Figure size 432x288 with 1 Axes>"
      ]
     },
     "metadata": {
      "needs_background": "light"
     },
     "output_type": "display_data"
    }
   ],
   "source": [
    "plt.plot(stochastic_MSE, stochastic_epochs)\n",
    "plt.show()"
   ]
  },
  {
   "cell_type": "markdown",
   "metadata": {},
   "source": [
    "Stochastic gradient descent picks a random instance in the trainng set at every step and computes the gradients based only on a single instance. Therefore, the speed of convergence can occur much faster since it has very little data to manipulate at every iteration. However, stochastic gradient descent can be less accurate, instead of gently decreasing until it reaches a minimum like in batch mode. The cost function will bounce up and down, decreasing only on average. "
   ]
  },
  {
   "cell_type": "markdown",
   "metadata": {},
   "source": [
    "Part 3: Gradient Descent (stochastic mode), Part c"
   ]
  },
  {
   "cell_type": "code",
   "execution_count": 96,
   "metadata": {},
   "outputs": [],
   "source": [
    "n_epochs = 100"
   ]
  },
  {
   "cell_type": "code",
   "execution_count": 97,
   "metadata": {},
   "outputs": [
    {
     "name": "stdout",
     "output_type": "stream",
     "text": [
      " \n",
      "0.2904 x + 0.6343\n"
     ]
    }
   ],
   "source": [
    "#Trial 1\n",
    "\n",
    "eta1 = 0.000001\n",
    "theta = np.random.randn(2,1) # random initilization\n",
    "\n",
    "theta = np.flip(gradient_descent_stochastic(n_epochs, eta1, theta))\n",
    "\n",
    "gradient_descent_stochastic_equation = np.poly1d((theta).flatten())\n",
    "\n",
    "stochastic_MSE1 = findMSE(y, findYValues(x, gradient_descent_stochastic_equation))\n",
    "\n",
    "print(gradient_descent_stochastic_equation)"
   ]
  },
  {
   "cell_type": "code",
   "execution_count": 98,
   "metadata": {},
   "outputs": [
    {
     "name": "stdout",
     "output_type": "stream",
     "text": [
      " \n",
      "0.8321 x - 0.1758\n"
     ]
    }
   ],
   "source": [
    "#Trial 2\n",
    "\n",
    "eta2 = 0.00001\n",
    "theta = np.random.randn(2,1) # random initilization\n",
    "\n",
    "theta = np.flip(gradient_descent_stochastic(n_epochs, eta2, theta))\n",
    "\n",
    "gradient_descent_stochastic_equation = np.poly1d((theta).flatten())\n",
    "\n",
    "stochastic_MSE2 = findMSE(y, findYValues(x, gradient_descent_stochastic_equation))\n",
    "\n",
    "print(gradient_descent_stochastic_equation)"
   ]
  },
  {
   "cell_type": "code",
   "execution_count": 99,
   "metadata": {},
   "outputs": [
    {
     "name": "stdout",
     "output_type": "stream",
     "text": [
      " \n",
      "0.9275 x - 1.571\n"
     ]
    }
   ],
   "source": [
    "#Trial 3\n",
    "\n",
    "eta3 = 0.0001\n",
    "theta = np.random.randn(2,1) # random initilization\n",
    "\n",
    "theta = np.flip(gradient_descent_stochastic(n_epochs, eta3, theta))\n",
    "\n",
    "gradient_descent_stochastic_equation = np.poly1d((theta).flatten())\n",
    "\n",
    "stochastic_MSE3 = findMSE(y, findYValues(x, gradient_descent_stochastic_equation))\n",
    "\n",
    "print(gradient_descent_stochastic_equation)"
   ]
  },
  {
   "cell_type": "code",
   "execution_count": 100,
   "metadata": {},
   "outputs": [
    {
     "name": "stdout",
     "output_type": "stream",
     "text": [
      " \n",
      "1.432 x - 3.498\n"
     ]
    }
   ],
   "source": [
    "#Trial 4\n",
    "\n",
    "eta4 = 0.001\n",
    "theta = np.random.randn(2,1) # random initilization\n",
    "\n",
    "theta = np.flip(gradient_descent_stochastic(n_epochs, eta4, theta))\n",
    "\n",
    "gradient_descent_stochastic_equation = np.poly1d((theta).flatten())\n",
    "\n",
    "stochastic_MSE4 = findMSE(y, findYValues(x, gradient_descent_stochastic_equation))\n",
    "\n",
    "print(gradient_descent_stochastic_equation)"
   ]
  },
  {
   "cell_type": "code",
   "execution_count": 101,
   "metadata": {},
   "outputs": [
    {
     "name": "stdout",
     "output_type": "stream",
     "text": [
      " \n",
      "1.373 x - 6.822\n"
     ]
    }
   ],
   "source": [
    "#Trial 5\n",
    "\n",
    "eta5 = 0.01\n",
    "theta = np.random.randn(2,1) # random initilization\n",
    "\n",
    "theta = np.flip(gradient_descent_stochastic(n_epochs, eta5, theta))\n",
    "\n",
    "gradient_descent_stochastic_equation = np.poly1d((theta).flatten())\n",
    "\n",
    "stochastic_MSE5 = findMSE(y, findYValues(x, gradient_descent_stochastic_equation))\n",
    "\n",
    "print(gradient_descent_stochastic_equation)"
   ]
  },
  {
   "cell_type": "code",
   "execution_count": 102,
   "metadata": {},
   "outputs": [
    {
     "name": "stdout",
     "output_type": "stream",
     "text": [
      "Learning Rate: \n",
      "[1e-06, 1e-05, 0.0001, 0.001, 0.01]\n",
      "MSE: \n",
      "[29.06961791136853, 11.48507848762231, 10.02377137069991, 15.3162198861788, 11.557851741174362]\n"
     ]
    }
   ],
   "source": [
    "stochastic_learning_rate = [eta1, eta2, eta3, eta4, eta5]\n",
    "stochastic_MSE = [stochastic_MSE1, stochastic_MSE2, stochastic_MSE3, stochastic_MSE4, stochastic_MSE5]\n",
    "\n",
    "print(\"Learning Rate: \")\n",
    "print(stochastic_learning_rate)\n",
    "print(\"MSE: \")\n",
    "print(stochastic_MSE)"
   ]
  },
  {
   "cell_type": "markdown",
   "metadata": {},
   "source": [
    "Cost vs Learning Rate."
   ]
  },
  {
   "cell_type": "code",
   "execution_count": 103,
   "metadata": {},
   "outputs": [
    {
     "data": {
      "image/png": "[encoded data removed]",
      "text/plain": [
       "<Figure size 432x288 with 1 Axes>"
      ]
     },
     "metadata": {
      "needs_background": "light"
     },
     "output_type": "display_data"
    }
   ],
   "source": [
    "plt.plot(stochastic_MSE, stochastic_learning_rate)\n",
    "plt.show()"
   ]
  },
  {
   "cell_type": "markdown",
   "metadata": {},
   "source": [
    "The best learning rate seems to be 0.0001 since it has the lowest cost. "
   ]
  },
  {
   "cell_type": "code",
   "execution_count": null,
   "metadata": {},
   "outputs": [],
   "source": []
  }
 ],
 "metadata": {
  "kernelspec": {
   "display_name": "Python 3",
   "language": "python",
   "name": "python3"
  },
  "language_info": {
   "codemirror_mode": {
    "name": "ipython",
    "version": 3
   },
   "file_extension": ".py",
   "mimetype": "text/x-python",
   "name": "python",
   "nbconvert_exporter": "python",
   "pygments_lexer": "ipython3",
   "version": "3.8.3"
  }
 },
 "nbformat": 4,
 "nbformat_minor": 4
}
